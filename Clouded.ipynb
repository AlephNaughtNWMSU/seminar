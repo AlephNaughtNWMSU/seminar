{
 "cells": [
  {
   "cell_type": "code",
   "execution_count": 1,
   "id": "written-minutes",
   "metadata": {},
   "outputs": [],
   "source": [
    "# Libraries\n",
    "import csv\n",
    "import pandas as pd\n",
    "import matplotlib.pyplot as plt\n",
    "\n",
    "# Read in data\n",
    "Cloud_Sections = pd.read_csv('CLOUD_SECTIONS_Cleaned.csv', delimiter = ',', encoding = 'latin1')\n",
    "Designed_Pipe_Centers = pd.read_csv('DESIGNED_Pipe_Centers_Cleaned.csv', delimiter = ',', encoding = 'latin1')\n",
    "Planes_Local_Global_Cleaned = pd.read_csv('Planes_Local_Global_Cleaned.csv', delimiter = ',', encoding = 'latin1')"
   ]
  },
  {
   "cell_type": "code",
   "execution_count": 3,
   "id": "worthy-progressive",
   "metadata": {},
   "outputs": [
    {
     "name": "stdout",
     "output_type": "stream",
     "text": [
      "            Section        X        Y        Z  Unnamed: 4\n",
      "0           Column1  Column2  Column3  Column4         NaN\n",
      "1       Section-{0}    14.65    44.56        0         NaN\n",
      "2       Section-{0}    14.17    43.33        0         NaN\n",
      "3       Section-{0}    61.61    59.48        0         NaN\n",
      "4       Section-{0}    14.45    44.45        0         NaN\n",
      "...             ...      ...      ...      ...         ...\n",
      "14414  Section-{49}    73.27    58.27        0         NaN\n",
      "14415  Section-{49}     71.5    56.44        0         NaN\n",
      "14416  Section-{49}    71.38    56.32        0         NaN\n",
      "14417  Section-{49}    73.11    58.07        0         NaN\n",
      "14418  Section-{49}     73.7    58.96        0         NaN\n",
      "\n",
      "[14419 rows x 5 columns]\n",
      "           Section          X          Y  Z       R  Unnamed: 5  Unnamed: 6\n",
      "0    Section Plane          X          Y  Z  Radius         NaN         NaN\n",
      "1      Section-{0}  65.408948  63.690596  0       8         NaN         NaN\n",
      "2      Section-{0}  10.082133  41.693907  0   4.375         NaN         NaN\n",
      "3      Section-{1}  65.408948  63.690228  0       8         NaN         NaN\n",
      "4      Section-{1}  10.082132  40.288857  0   4.375         NaN         NaN\n",
      "..             ...        ...        ... ..     ...         ...         ...\n",
      "96    Section-{47}  10.083647  57.131381  0   4.375         NaN         NaN\n",
      "97    Section-{48}  65.408953   63.68961  0       8         NaN         NaN\n",
      "98    Section-{48}  10.083599  57.402983  0   4.375         NaN         NaN\n",
      "99    Section-{49}  65.408947  63.689732  0       8         NaN         NaN\n",
      "100   Section-{49}  10.083495  57.793803  0   4.375         NaN         NaN\n",
      "\n",
      "[101 rows x 7 columns]\n"
     ]
    }
   ],
   "source": [
    "# Print data\n",
    "print(Cloud_Sections)\n",
    "print(Designed_Pipe_Centers)"
   ]
  }
 ],
 "metadata": {
  "kernelspec": {
   "display_name": "Python 3",
   "language": "python",
   "name": "python3"
  },
  "language_info": {
   "codemirror_mode": {
    "name": "ipython",
    "version": 3
   },
   "file_extension": ".py",
   "mimetype": "text/x-python",
   "name": "python",
   "nbconvert_exporter": "python",
   "pygments_lexer": "ipython3",
   "version": "3.7.6"
  }
 },
 "nbformat": 4,
 "nbformat_minor": 5
}
