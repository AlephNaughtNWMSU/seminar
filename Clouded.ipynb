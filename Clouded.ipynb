{
 "cells": [
  {
   "cell_type": "code",
   "execution_count": 1,
   "id": "foreign-flesh",
   "metadata": {},
   "outputs": [],
   "source": [
    "# Libraries\n",
    "import csv\n",
    "import pandas as pd\n",
    "import matplotlib.pyplot as plt\n",
    "import math\n",
    "\n",
    "# Read in data\n",
    "#Cloud_Sections\n",
    "cs = pd.read_csv('CLOUD_SECTIONS_Cleaned.csv', delimiter = ',', encoding = 'latin1')\n",
    "#Designed_Pipe_Center\n",
    "desP = pd.read_csv('DESIGNED_Pipe_Centers_Cleaned.csv', delimiter = ',', encoding = 'latin1')\n",
    "#Planes_Local_Global_Cleaned\n",
    "p_info = pd.read_csv('Planes_Local_Global_Cleaned.csv', delimiter = ',', encoding = 'latin1')"
   ]
  },
  {
   "cell_type": "code",
   "execution_count": 2,
   "id": "infrared-transparency",
   "metadata": {},
   "outputs": [],
   "source": [
    "SectionedList = []\n",
    "XsecList = []\n",
    "YsecList = []\n",
    "for s in range(cs.Section.nunique()): #creates a List of dataframes where each dataframe is a section\n",
    "    SectionedList.append(cs[cs[\"Section\"] == \"Section-{\" + str(s) + \"}\"])\n",
    "\n",
    "for s in SectionedList: #for Section in SectionList, s is a dataframe for a section\n",
    "    x = s.X\n",
    "    y = s.Y\n",
    "    XsecList.append(list(x))\n",
    "    YsecList.append(list(y))\n",
    "    #print(s)\n",
    "    #plt.hist(s.X, bins=8, color = \"orange\")\n",
    "    #print(\"Histogram of x values\")\n",
    "    #plt.show()\n",
    "    #print(s.X)\n",
    "   \n",
    "    #plt.scatter(x, y)\n",
    "    #plt.show()"
   ]
  },
  {
   "cell_type": "code",
   "execution_count": 3,
   "id": "alone-manual",
   "metadata": {},
   "outputs": [],
   "source": [
    "#create list showing the pipe centers\n",
    "CenterList = []\n",
    "for n in range(desP.Section.nunique()): #creates a List of dataframes where each dataframe is a section\n",
    "    CenterList.append(desP[desP[\"Section\"] == \"Section-{\" + str(n) + \"}\"])\n",
    "\n",
    "#print(CenterList[1])"
   ]
  },
  {
   "cell_type": "code",
   "execution_count": 4,
   "id": "underlying-trinidad",
   "metadata": {},
   "outputs": [
    {
     "data": {
      "text/plain": [
       "'for C in TuplePairsBySection:\\n    if count == 1:\\n        plt.title(\"Section \" + str(count))\\n        plt.xlim(0, max(x[0] for x in C) * 1.1)\\n        plt.ylim(0, max(y[1] for y in C) * 1.1)\\n        plt.scatter(*zip(*C))\\n        plt.scatter(CenterList[count].X, CenterList[count].Y, color = \"red\")\\n        #a = plt.Circle((CenterList[count].iloc[0,1],CenterList[count].iloc[0,2]),radius = CenterList[count].iloc[0,4]*1.05,color = \"red\")\\n        #plt.gca().add_artist(a)\\n        #b = plt.Circle((CenterList[count].iloc[1,1],CenterList[count].iloc[1,2]),radius = CenterList[count].iloc[1,4]*1.05,color = \"red\")\\n        #plt.gca().add_artist(b)\\n        plt.show()\\n    count += 1\\n    if count > 1:\\n        break\\nprint(CenterList[1])\\nprint(sorted(TuplePairsBySection[1]))\\n'"
      ]
     },
     "execution_count": 4,
     "metadata": {},
     "output_type": "execute_result"
    }
   ],
   "source": [
    "TuplePairsBySection = []\n",
    "for i, j in zip(XsecList, YsecList):\n",
    "    TuplePairsBySection.append(list(zip(i, j)))\n",
    "count = 0\n",
    "#Visualize Sections\n",
    "\"\"\"for C in TuplePairsBySection:\n",
    "    if count == 1:\n",
    "        plt.title(\"Section \" + str(count))\n",
    "        plt.xlim(0, max(x[0] for x in C) * 1.1)\n",
    "        plt.ylim(0, max(y[1] for y in C) * 1.1)\n",
    "        plt.scatter(*zip(*C))\n",
    "        plt.scatter(CenterList[count].X, CenterList[count].Y, color = \"red\")\n",
    "        #a = plt.Circle((CenterList[count].iloc[0,1],CenterList[count].iloc[0,2]),radius = CenterList[count].iloc[0,4]*1.05,color = \"red\")\n",
    "        #plt.gca().add_artist(a)\n",
    "        #b = plt.Circle((CenterList[count].iloc[1,1],CenterList[count].iloc[1,2]),radius = CenterList[count].iloc[1,4]*1.05,color = \"red\")\n",
    "        #plt.gca().add_artist(b)\n",
    "        plt.show()\n",
    "    count += 1\n",
    "    if count > 1:\n",
    "        break\n",
    "print(CenterList[1])\n",
    "print(sorted(TuplePairsBySection[1]))\n",
    "\"\"\""
   ]
  },
  {
   "cell_type": "raw",
   "id": "extraordinary-cisco",
   "metadata": {},
   "source": [
    "#OLD VERSION\n",
    "count = 0\n",
    "for i, j in zip(XsecList, YsecList):   \n",
    "    plt.title(\"Section \" + str(count))\n",
    "    plt.xlim(0, max(i) + max(i) * 0.1)\n",
    "    plt.ylim(0, max(j) + max(j) * 0.1)\n",
    "    plt.scatter(i, j)\n",
    "    plt.scatter(CenterList[count].X, CenterList[count].Y, color = \"red\")\n",
    "    for n in range(len(CenterList[count])):\n",
    "        #print(CenterList[count].iloc[n,])\n",
    "        plt.Circle((CenterList[count].iloc[n,1], CenterList[count].iloc[n,2]), CenterList[count].iloc[n,4])\n",
    "        plt.show()\n",
    "    plt.show()\n",
    "    count += 1\n",
    "print(\"done\")"
   ]
  },
  {
   "cell_type": "code",
   "execution_count": 9,
   "id": "preliminary-samoa",
   "metadata": {},
   "outputs": [],
   "source": [
    "N = 1.15 #Radius multiplier, 1.15 = 15% greater than the known radius\n",
    "\n",
    "PassesFirstNoiseTestBySection = []\n",
    "count1 = 0 \n",
    "for C in TuplePairsBySection:\n",
    "    #print(\"Section \" + str(count1))\n",
    "    D = [] #List used to add ordered pairs if conditions are met, replaces C\n",
    "    E = [] #List used to add ordered pairs if conditions are met, replaces C\n",
    "    r1 = CenterList[count1].iloc[0,4] * N #radius 1\n",
    "    r2 = CenterList[count1].iloc[1,4] * N #radius 2\n",
    "    c1 = tuple(CenterList[count1].iloc[0,1:3]) #Center 1\n",
    "    c2 = tuple(CenterList[count1].iloc[1,1:3]) #center 2\n",
    "    count2 = 0\n",
    "    for op in C:\n",
    "        #print(\"Tuple #\" + str(count2) + \" \" + str(op))\n",
    "        count2 += 1\n",
    "        if math.dist(c1, op) < r1:\n",
    "            D.append(op)\n",
    "            continue\n",
    "        if math.dist(c2, op) < r2:\n",
    "            E.append(op)\n",
    "            continue\n",
    "        #print(str(op) + \" did not pass\")\n",
    "    PassesFirstNoiseTestBySection.append(D) #adds cleaned section back to list\n",
    "    PassesFirstNoiseTestBySection.append(E) #adds cleaned section back to list\n",
    "    \"\"\"plt.title(\"Section \" + str(count1))\n",
    "    plt.xlim(0, max(x[0] for x in D) * 1.1)\n",
    "    plt.ylim(0, max(y[1] for y in D) * 1.1)\n",
    "    plt.scatter(*zip(*D))\n",
    "    plt.scatter(CenterList[count1].X, CenterList[count1].Y, color = \"red\")\n",
    "    plt.show()\"\"\"\n",
    "    count1 += 1\n",
    "    #print(\"\")"
   ]
  },
  {
   "cell_type": "code",
   "execution_count": 11,
   "id": "residential-combination",
   "metadata": {},
   "outputs": [
    {
     "data": {
      "image/png": "[encoded data removed]",
      "text/plain": [
       "<Figure size 432x288 with 1 Axes>"
      ]
     },
     "metadata": {
      "needs_background": "light"
     },
     "output_type": "display_data"
    },
    {
     "data": {
      "image/png": "[encoded data removed]",
      "text/plain": [
       "<Figure size 432x288 with 1 Axes>"
      ]
     },
     "metadata": {
      "needs_background": "light"
     },
     "output_type": "display_data"
    }
   ],
   "source": [
    "#CHECK FIRST TEST SUCCESS\n",
    "NUM = 0\n",
    "#print(\"With radius multiplier of \" + str(N))\n",
    "\n",
    "#Cleaned Section\n",
    "plt.title(\"Cleaned Section \" + str(NUM))\n",
    "plt.xlim(0, max(x[0] for x in TuplePairsBySection[NUM]) * 1.25)\n",
    "plt.ylim(0, max(y[1] for y in TuplePairsBySection[NUM]) * 1.25)\n",
    "if len(PassesFirstNoiseTestBySection[2 * NUM]) > 0: #Section 1 circle 3 workaround\n",
    "    plt.scatter(*zip(*PassesFirstNoiseTestBySection[2 * NUM]), color = \"blue\") #Circle saved as D\n",
    "else: \n",
    "    print(\"Circle \" + str(2 * NUM) + \" from Section \" + str(NUM) + \" has no values at radius multiplier \" + str(N) +\".\")\n",
    "if len(PassesFirstNoiseTestBySection[2 * NUM + 1]) > 0: #Section 1 circle 3 workaround\n",
    "    plt.scatter(*zip(*PassesFirstNoiseTestBySection[2 * NUM + 1]), color = \"green\")  #Circle saved as E\n",
    "else: \n",
    "    print(\"Circle \" + str(2 * NUM + 1) + \" from Section \" + str(NUM) + \" has no values at radius multiplier \" + str(N) +\".\")\n",
    "plt.scatter(CenterList[NUM].X, CenterList[NUM].Y, color = \"red\")\n",
    "plt.show()\n",
    "\n",
    "#Original Section\n",
    "plt.title(\"Original Section \" + str(NUM))\n",
    "plt.xlim(0, max(x[0] for x in TuplePairsBySection[NUM]) * 1.25)\n",
    "plt.ylim(0, max(y[1] for y in TuplePairsBySection[NUM]) * 1.25)\n",
    "plt.scatter(*zip(*TuplePairsBySection[NUM]))\n",
    "plt.scatter(CenterList[NUM].X, CenterList[NUM].Y, color = \"red\")\n",
    "plt.show()"
   ]
  },
  {
   "cell_type": "code",
   "execution_count": 7,
   "id": "answering-bulletin",
   "metadata": {},
   "outputs": [
    {
     "name": "stdout",
     "output_type": "stream",
     "text": [
      "Circle 3 of Section 1 has no points at the given radius multiplier of 1.15.\n"
     ]
    }
   ],
   "source": [
    "#manually Checking if circle has no points\n",
    "count = 0\n",
    "SecCount = 0\n",
    "for circle in PassesFirstNoiseTestBySection:\n",
    "    if len(circle) == 0:\n",
    "        print(\"Circle \" +str(count)+ \" of Section \" +str(SecCount)+ \" has no points at the given radius multiplier of \" +str(N)+ \".\")\n",
    "    if count%2 == 1:\n",
    "        SecCount += 1\n",
    "    count += 1\n",
    "\n",
    "#Conclusion: \n",
    "#Circle 3 of section 1 has no points at radius multiplier of 3 while\n",
    "#All pother circles have points at radius multiplier of 1.15\n",
    "#so 1.15 seems to be a good minimum values for the radius multiplier and \n",
    "#we should consider ignoring Circle 3 of Section 1 altogether.\n",
    "\n",
    "#Either the center is wildly off unlike the rest, or the points are wildly off.\n",
    "#No other circle of any other section is remotely close to as innacurate."
   ]
  },
  {
   "cell_type": "code",
   "execution_count": null,
   "id": "limiting-portuguese",
   "metadata": {},
   "outputs": [],
   "source": []
  }
 ],
 "metadata": {
  "kernelspec": {
   "display_name": "Python 3",
   "language": "python",
   "name": "python3"
  },
  "language_info": {
   "codemirror_mode": {
    "name": "ipython",
    "version": 3
   },
   "file_extension": ".py",
   "mimetype": "text/x-python",
   "name": "python",
   "nbconvert_exporter": "python",
   "pygments_lexer": "ipython3",
   "version": "3.9.0"
  }
 },
 "nbformat": 4,
 "nbformat_minor": 5
}
