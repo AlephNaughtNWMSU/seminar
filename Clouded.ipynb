{
 "cells": [
  {
   "cell_type": "code",
   "execution_count": 7,
   "id": "special-wagon",
   "metadata": {},
   "outputs": [],
   "source": [
    "import csv\n",
    "import pandas as pd\n",
    "import matplotlib.pyplot as plt\n",
    "\n",
    "\n",
    "data = pd.read_csv('CLOUDS/CLOUD_SECTIONS.csv', delimiter = ',', encoding = 'latin1')"
   ]
  },
  {
   "cell_type": "code",
   "execution_count": 6,
   "id": "headed-processor",
   "metadata": {},
   "outputs": [
    {
     "name": "stdout",
     "output_type": "stream",
     "text": [
      "      NWMSU Clouded Vision Data  \\\n",
      "0                      2/2/2021   \n",
      "1                           NaN   \n",
      "2                           NaN   \n",
      "3                           NaN   \n",
      "4                           NaN   \n",
      "...                         ...   \n",
      "14466                       NaN   \n",
      "14467                       NaN   \n",
      "14468                       NaN   \n",
      "14469                       NaN   \n",
      "14470                       NaN   \n",
      "\n",
      "                                              Unnamed: 1 Unnamed: 2  \\\n",
      "0                                                    NaN        NaN   \n",
      "1      Point cloud sections oriented at (0,0,0) groun...        NaN   \n",
      "2                                          Section Plane          X   \n",
      "3                                            Section-{0}      14.65   \n",
      "4                                            Section-{0}      14.17   \n",
      "...                                                  ...        ...   \n",
      "14466                                       Section-{49}       71.5   \n",
      "14467                                       Section-{49}      71.38   \n",
      "14468                                       Section-{49}      73.11   \n",
      "14469                                       Section-{49}       73.7   \n",
      "14470                                                NaN        NaN   \n",
      "\n",
      "      Unnamed: 3 Unnamed: 4              Unnamed: 5  \n",
      "0            NaN        NaN                     NaN  \n",
      "1            NaN        NaN                     NaN  \n",
      "2              Y          Z   *all values in inches  \n",
      "3          44.56          0                     NaN  \n",
      "4          43.33          0                     NaN  \n",
      "...          ...        ...                     ...  \n",
      "14466      56.44          0                     NaN  \n",
      "14467      56.32          0                     NaN  \n",
      "14468      58.07          0                     NaN  \n",
      "14469      58.96          0                     NaN  \n",
      "14470        NaN        NaN                     NaN  \n",
      "\n",
      "[14471 rows x 6 columns]\n"
     ]
    }
   ],
   "source": [
    "print(data)"
   ]
  }
 ],
 "metadata": {
  "kernelspec": {
   "display_name": "Python 3",
   "language": "python",
   "name": "python3"
  },
  "language_info": {
   "codemirror_mode": {
    "name": "ipython",
    "version": 3
   },
   "file_extension": ".py",
   "mimetype": "text/x-python",
   "name": "python",
   "nbconvert_exporter": "python",
   "pygments_lexer": "ipython3",
   "version": "3.7.6"
  }
 },
 "nbformat": 4,
 "nbformat_minor": 5
}
