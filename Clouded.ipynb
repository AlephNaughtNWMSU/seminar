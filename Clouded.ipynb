{
 "cells": [
  {
   "cell_type": "code",
   "execution_count": 1,
   "id": "brilliant-bankruptcy",
   "metadata": {},
   "outputs": [],
   "source": [
    "# Libraries\n",
    "import csv\n",
    "import pandas as pd\n",
    "import matplotlib.pyplot as plt\n",
    "\n",
    "# Read in data\n",
    "#Cloud_Sections\n",
    "cs = pd.read_csv('CLOUD_SECTIONS_Cleaned.csv', delimiter = ',', encoding = 'latin1')\n",
    "#Designed_Pipe_Center\n",
    "desP = pd.read_csv('DESIGNED_Pipe_Centers_Cleaned.csv', delimiter = ',', encoding = 'latin1')\n",
    "#Planes_Local_Global_Cleaned\n",
    "p_info = pd.read_csv('Planes_Local_Global_Cleaned.csv', delimiter = ',', encoding = 'latin1')"
   ]
  },
  {
   "cell_type": "code",
   "execution_count": 2,
   "id": "invalid-silver",
   "metadata": {},
   "outputs": [],
   "source": [
    "SectionedList = []\n",
    "XsecList = []\n",
    "YsecList = []\n",
    "for s in range(cs.Section.nunique()): #creates a List of dataframes where each dataframe is a section\n",
    "    SectionedList.append(cs[cs[\"Section\"] == \"Section-{\" + str(s) + \"}\"])\n",
    "\n",
    "for s in SectionedList: #for Section in SectionList, s is a dataframe for a section\n",
    "    x = s.X\n",
    "    y = s.Y\n",
    "    XsecList.append(list(x))\n",
    "    YsecList.append(list(y))\n",
    "    #print(s)\n",
    "    #plt.hist(s.X, bins=8, color = \"orange\")\n",
    "    #print(\"Histogram of x values\")\n",
    "    #plt.show()\n",
    "    #print(s.X)\n",
    "   \n",
    "    #plt.scatter(x, y)\n",
    "    #plt.show()\n"
   ]
  },
  {
   "cell_type": "code",
   "execution_count": 3,
   "id": "furnished-match",
   "metadata": {},
   "outputs": [],
   "source": [
    "#create list showing the pipe centers\n",
    "CenterList = []\n",
    "for n in range(desP.Section.nunique()): #creates a List of dataframes where each dataframe is a section\n",
    "    CenterList.append(desP[desP[\"Section\"] == \"Section-{\" + str(n) + \"}\"])"
   ]
  },
  {
   "cell_type": "code",
   "execution_count": null,
   "id": "indoor-austin",
   "metadata": {},
   "outputs": [],
   "source": [
    "TuplePairsBySection = []\n",
    "for i, j in zip(XsecList, YsecList):\n",
    "    TuplePairsBySection.append(list(zip(i, j)))\n",
    "count = 0\n",
    "for C in TuplePairsBySection:\n",
    "    plt.title(\"Section \" + str(count))\n",
    "    plt.xlim(0, max(x[0] for x in C) * 1.1)\n",
    "    plt.ylim(0, max(y[1] for y in C) * 1.1)\n",
    "    plt.scatter(*zip(*C))\n",
    "    plt.scatter(CenterList[count].X, CenterList[count].Y, color = \"red\")\n",
    "    plt.show()\n",
    "    count += 1"
   ]
  },
  {
   "cell_type": "code",
   "execution_count": null,
   "id": "hindu-chart",
   "metadata": {},
   "outputs": [],
   "source": [
    "#OLD VERSION\n",
    "count = 0\n",
    "for i, j in zip(XsecList, YsecList):   \n",
    "    plt.title(\"Section \" + str(count))\n",
    "    plt.xlim(0, max(i) + max(i) * 0.1)\n",
    "    plt.ylim(0, max(j) + max(j) * 0.1)\n",
    "    plt.scatter(i, j)\n",
    "    plt.scatter(CenterList[count].X, CenterList[count].Y, color = \"red\")\n",
    "    for n in range(len(CenterList[count])):\n",
    "        #print(CenterList[count].iloc[n,])\n",
    "        plt.Circle((CenterList[count].iloc[n,1], CenterList[count].iloc[n,2]), CenterList[count].iloc[n,4])\n",
    "        plt.show()\n",
    "    plt.show()\n",
    "    count += 1\n",
    "print(\"done\")"
   ]
  },
  {
   "cell_type": "code",
   "execution_count": null,
   "id": "unnecessary-bleeding",
   "metadata": {},
   "outputs": [],
   "source": []
  }
 ],
 "metadata": {
  "kernelspec": {
   "display_name": "Python 3",
   "language": "python",
   "name": "python3"
  },
  "language_info": {
   "codemirror_mode": {
    "name": "ipython",
    "version": 3
   },
   "file_extension": ".py",
   "mimetype": "text/x-python",
   "name": "python",
   "nbconvert_exporter": "python",
   "pygments_lexer": "ipython3",
   "version": "3.9.0"
  }
 },
 "nbformat": 4,
 "nbformat_minor": 5
}
