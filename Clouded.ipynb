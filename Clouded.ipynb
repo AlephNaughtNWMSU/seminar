{
 "cells": [
  {
   "cell_type": "code",
   "execution_count": 1,
   "id": "focused-sewing",
   "metadata": {},
   "outputs": [],
   "source": [
    "import csv\n",
    "import pandas as pd\n",
    "import matplotlib.pyplot as plt\n",
    "import math\n",
    "\n",
    "# Read in data\n",
    "#Cloud_Sections\n",
    "cs = pd.read_csv('CLOUD_SECTIONS_Cleaned.csv', delimiter = ',', encoding = 'latin1')\n",
    "#Designed_Pipe_Center\n",
    "desP = pd.read_csv('DESIGNED_Pipe_Centers_Cleaned.csv', delimiter = ',', encoding = 'latin1')\n",
    "#Planes_Local_Global_Cleaned\n",
    "p_info = pd.read_csv('Planes_Local_Global_Cleaned.csv', delimiter = ',', encoding = 'latin1')"
   ]
  },
  {
   "cell_type": "code",
   "execution_count": 2,
   "id": "registered-wallet",
   "metadata": {},
   "outputs": [
    {
     "name": "stdout",
     "output_type": "stream",
     "text": [
      "[(14.65, 44.56), (14.17, 43.33), (61.61, 59.48), (14.45, 44.45), (14.92, 45.03), (14.37, 43.62), (14.05, 42.2), (14.92, 44.96), (14.37, 43.97), (58.5, 69.35), (13.98, 42.39), (12.4, 40.77), (60.87, 60.03), (14.13, 47.14), (58.78, 62.92), (61.97, 59.21), (14.05, 42.95), (58.19, 64.98), (14.17, 43.22), (14.92, 44.84), (14.92, 45.24), (14.92, 45.11), (13.98, 42.55), (13.5, 41.53), (61.14, 59.77), (59.25, 70.78), (13.9, 42.47), (13.78, 41.8), (14.29, 43.5), (14.33, 46.81), (11.42, 40.34), (14.17, 43.14), (59.88, 60.98), (13.7, 41.73), (60.94, 59.96), (68.11, 58.33), (62.83, 58.74), (63.58, 58.41), (63.94, 58.34), (62.24, 59.01), (63.39, 58.53), (64.37, 58.26)]\n",
      "       Section          X          Y  Z      R\n",
      "0  Section-{0}  65.408948  63.690596  0  8.000\n",
      "1  Section-{0}  10.082133  41.693907  0  4.375\n"
     ]
    }
   ],
   "source": [
    "TuplePairsBySection = [] #A List of sections, where each section is a list of tuples, and each tuple is the XY coordinates of a point on the point cloud\n",
    "CenterList = [] #A list of the Designed Center points and radius, each object in the list is a panda dataframe where there are as many rows as pipes\n",
    "for n in range(cs.Section.nunique()): #for n in the number of distinct sections\n",
    "    grab = cs[cs[\"Section\"] == \"Section-{\" + str(n) + \"}\"] #grabs all dataframe rows in each distinct section\n",
    "    TuplePairsBySection.append(list(zip(grab.X, grab.Y))) #adds the individual X and Y points in each point cloud pair for the nth section\n",
    "    CenterList.append(desP[desP[\"Section\"] == \"Section-{\" + str(n) + \"}\"]) #adds the dataframe rows in each distinct section"
   ]
  },
  {
   "cell_type": "code",
   "execution_count": 15,
   "id": "exterior-requirement",
   "metadata": {},
   "outputs": [],
   "source": [
    "N = 1.25 #arbitrary radius multiplier\n",
    "PassesFirstNoiseTestBySection = [] #A List of points in the point cloud, by section and pipe, that pass the first noise test\n",
    "FailsFirstNoiseTestBySection = [] #A List of points in the point cloud, by section, that fail the first noise test\n",
    "count = 0 \n",
    "for section in TuplePairsBySection:\n",
    "    D, E, F = [], [], []\n",
    "    r1, r2 = CenterList[count].iloc[0,4], CenterList[count].iloc[1,4] #intialize the radius for both pipes\n",
    "    c1, c2 = tuple(CenterList[count].iloc[0,1:3]), tuple(CenterList[count].iloc[1,1:3]) #intialize the center XY coordinate tuple for both pipes\n",
    "    for p in section: #for point in Section\n",
    "        if math.dist(c1, p) < (r1 * N): #test first pipe\n",
    "            D.append(p)\n",
    "        elif math.dist(c2, p) < (r2 * N): #test second pipe\n",
    "            E.append(p)\n",
    "        else:\n",
    "        \tF.append(p)\n",
    "    PassesFirstNoiseTestBySection.append(D)\n",
    "    PassesFirstNoiseTestBySection.append(E)\n",
    "    FailsFirstNoiseTestBySection.append(F)\n",
    "    count += 1"
   ]
  },
  {
   "cell_type": "code",
   "execution_count": 16,
   "id": "tracked-bouquet",
   "metadata": {},
   "outputs": [
    {
     "name": "stdout",
     "output_type": "stream",
     "text": [
      "Circle 3 from Section 1 has no values at radius multiplier 1.25.\n"
     ]
    },
    {
     "data": {
      "image/png": "[encoded data removed]",
      "text/plain": [
       "<Figure size 432x288 with 1 Axes>"
      ]
     },
     "metadata": {
      "needs_background": "light"
     },
     "output_type": "display_data"
    },
    {
     "data": {
      "image/png": "[encoded data removed]",
      "text/plain": [
       "<Figure size 432x288 with 1 Axes>"
      ]
     },
     "metadata": {
      "needs_background": "light"
     },
     "output_type": "display_data"
    },
    {
     "name": "stdout",
     "output_type": "stream",
     "text": [
      "       Section          X          Y  Z      R\n",
      "4  Section-{2}  65.408948  63.688344  0  8.000\n",
      "5  Section-{2}  10.082130  39.285477  0  4.375\n",
      "[(8.98, 53.67), (9.53, 54.06), (9.68, 54.14), (10.0, 54.3), (10.12, 54.39), (10.31, 54.45), (10.59, 54.62), (10.98, 54.78), (11.3, 54.78), (11.42, 54.78), (11.77, 54.93), (11.81, 55.53), (11.97, 55.06), (11.97, 55.21), (58.98, 61.49), (59.29, 61.03), (59.37, 60.94), (59.57, 60.66), (59.65, 60.58), (60.04, 60.19), (60.12, 60.1), (60.2, 60.03), (60.51, 59.76), (60.79, 59.52), (60.87, 59.45), (61.02, 59.36), (61.1, 59.29), (61.54, 58.97), (61.69, 58.88), (61.85, 58.8), (62.48, 58.49), (62.83, 58.33), (62.99, 58.3), (63.39, 58.14), (63.98, 57.98), (64.45, 57.9), (65.2, 57.82), (66.42, 57.82), (66.5, 57.83), (67.09, 57.89), (68.11, 58.14), (68.19, 58.21)]\n"
     ]
    }
   ],
   "source": [
    "#CHECK FIRST TEST SUCCESS\n",
    "NUM = 1 #Section checked\n",
    "#print(\"With radius multiplier of \" + str(N))\n",
    "\n",
    "#Cleaned Section\n",
    "plt.title(\"Cleaned Section \" + str(NUM))\n",
    "plt.xlim(0, max(x[0] for x in TuplePairsBySection[NUM]) * 1.25)\n",
    "plt.ylim(0, max(y[1] for y in TuplePairsBySection[NUM]) * 1.25)\n",
    "if len(PassesFirstNoiseTestBySection[2 * NUM]) > 0: #Section 1 circle 3 workaround\n",
    "    plt.scatter(*zip(*PassesFirstNoiseTestBySection[2 * NUM]), color = \"blue\") #Circle saved as D\n",
    "else: \n",
    "    print(\"Circle \" + str(2 * NUM) + \" from Section \" + str(NUM) + \" has no values at radius multiplier \" + str(N) +\".\")\n",
    "if len(PassesFirstNoiseTestBySection[2 * NUM + 1]) > 0: #Section 1 circle 3 workaround\n",
    "    plt.scatter(*zip(*PassesFirstNoiseTestBySection[2 * NUM + 1]), color = \"green\")  #Circle saved as E\n",
    "else: \n",
    "    print(\"Circle \" + str(2 * NUM + 1) + \" from Section \" + str(NUM) + \" has no values at radius multiplier \" + str(N) +\".\")\n",
    "plt.scatter(CenterList[NUM].X, CenterList[NUM].Y, color = \"red\")\n",
    "plt.show()\n",
    "\n",
    "#Original Section\n",
    "plt.title(\"Original Section \" + str(NUM))\n",
    "plt.xlim(0, max(x[0] for x in TuplePairsBySection[NUM]) * 1.25)\n",
    "plt.ylim(0, max(y[1] for y in TuplePairsBySection[NUM]) * 1.25)\n",
    "plt.scatter(*zip(*TuplePairsBySection[NUM]))\n",
    "plt.scatter(CenterList[NUM].X, CenterList[NUM].Y, color = \"red\")\n",
    "plt.show()"
   ]
  },
  {
   "cell_type": "code",
   "execution_count": null,
   "id": "tamil-clarity",
   "metadata": {},
   "outputs": [],
   "source": [
    "count = 0\n",
    "SecCount = 0\n",
    "for circle in PassesFirstNoiseTestBySection:\n",
    "    if len(circle) == 0:\n",
    "        print(\"Circle \" +str(count)+ \" of Section \" +str(SecCount)+ \" has no points at the given radius multiplier of \" +str(N)+ \".\")\n",
    "    if count%2 == 1:\n",
    "        SecCount += 1\n",
    "    count += 1"
   ]
  },
  {
   "cell_type": "raw",
   "id": "rolled-compound",
   "metadata": {},
   "source": [
    "#OLD VERSION\n",
    "SectionedList = []\n",
    "XsecList = []\n",
    "YsecList = []\n",
    "for s in range(cs.Section.nunique()): #creates a List of dataframes where each dataframe is a section\n",
    "    SectionedList.append(cs[cs[\"Section\"] == \"Section-{\" + str(s) + \"}\"])\n",
    "\n",
    "for s in SectionedList: #for Section in SectionList, s is a dataframe for a section\n",
    "    x = s.X\n",
    "    y = s.Y\n",
    "    XsecList.append(list(x))\n",
    "    YsecList.append(list(y))\n",
    "    #print(s)\n",
    "    #plt.hist(s.X, bins=8, color = \"orange\")\n",
    "    #print(\"Histogram of x values\")\n",
    "    #plt.show()\n",
    "    #print(s.X)\n",
    "   \n",
    "    #plt.scatter(x, y)\n",
    "    #plt.show()\n",
    "TuplePairsBySection = []\n",
    "for i, j in zip(XsecList, YsecList):\n",
    "    TuplePairsBySection.append(list(zip(i, j)))\n",
    "    \n",
    "#create list showing the pipe centers\n",
    "CenterList = []\n",
    "for n in range(desP.Section.nunique()): #creates a List of dataframes where each dataframe is a section\n",
    "    CenterList.append(desP[desP[\"Section\"] == \"Section-{\" + str(n) + \"}\"])\n",
    "\n",
    "#print(CenterList[1])"
   ]
  },
  {
   "cell_type": "code",
   "execution_count": 13,
   "id": "certified-confirmation",
   "metadata": {},
   "outputs": [
    {
     "data": {
      "image/png": "[encoded data removed]",
      "text/plain": [
       "<Figure size 432x288 with 1 Axes>"
      ]
     },
     "metadata": {
      "needs_background": "light"
     },
     "output_type": "display_data"
    }
   ],
   "source": [
    "#Visualize Sections\n",
    "\"\"\"count = 0\n",
    "for C in TuplePairsBySection:\n",
    "    if count == 1:\n",
    "        plt.title(\"Section \" + str(count))\n",
    "        plt.xlim(0, max(x[0] for x in C) * 1.1)\n",
    "        plt.ylim(0, max(y[1] for y in C) * 1.1)\n",
    "        plt.scatter(*zip(*C))\n",
    "        plt.scatter(CenterList[count].X, CenterList[count].Y, color = \"red\")\n",
    "        #a = plt.Circle((CenterList[count].iloc[0,1],CenterList[count].iloc[0,2]),radius = CenterList[count].iloc[0,4]*1.05,color = \"red\")\n",
    "        #plt.gca().add_artist(a)\n",
    "        #b = plt.Circle((CenterList[count].iloc[1,1],CenterList[count].iloc[1,2]),radius = CenterList[count].iloc[1,4]*1.05,color = \"red\")\n",
    "        #plt.gca().add_artist(b)\n",
    "        plt.show()\n",
    "    count += 1\n",
    "    if count > 1:\n",
    "        break\n",
    "#print(CenterList[1])\n",
    "#print(sorted(TuplePairsBySection[1]))\n",
    "\"\"\""
   ]
  },
  {
   "cell_type": "raw",
   "id": "shared-municipality",
   "metadata": {},
   "source": [
    "#OLD VERSION\n",
    "count = 0\n",
    "for i, j in zip(XsecList, YsecList):   \n",
    "    plt.title(\"Section \" + str(count))\n",
    "    plt.xlim(0, max(i) + max(i) * 0.1)\n",
    "    plt.ylim(0, max(j) + max(j) * 0.1)\n",
    "    plt.scatter(i, j)\n",
    "    plt.scatter(CenterList[count].X, CenterList[count].Y, color = \"red\")\n",
    "    for n in range(len(CenterList[count])):\n",
    "        #print(CenterList[count].iloc[n,])\n",
    "        plt.Circle((CenterList[count].iloc[n,1], CenterList[count].iloc[n,2]), CenterList[count].iloc[n,4])\n",
    "        plt.show()\n",
    "    plt.show()\n",
    "    count += 1\n",
    "print(\"done\")"
   ]
  }
 ],
 "metadata": {
  "kernelspec": {
   "display_name": "Python 3",
   "language": "python",
   "name": "python3"
  },
  "language_info": {
   "codemirror_mode": {
    "name": "ipython",
    "version": 3
   },
   "file_extension": ".py",
   "mimetype": "text/x-python",
   "name": "python",
   "nbconvert_exporter": "python",
   "pygments_lexer": "ipython3",
   "version": "3.9.0"
  }
 },
 "nbformat": 4,
 "nbformat_minor": 5
}
