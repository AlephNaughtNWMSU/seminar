{
 "cells": [
  {
   "cell_type": "code",
   "execution_count": 4,
   "id": "federal-membership",
   "metadata": {},
   "outputs": [],
   "source": [
    "# Libraries\n",
    "import csv\n",
    "import pandas as pd\n",
    "import matplotlib.pyplot as plt\n",
    "\n",
    "# Read in data\n",
    "Cloud_Sections = pd.read_csv('CLOUD_SECTIONS_Cleaned.csv', delimiter = ',', encoding = 'latin1')\n",
    "Designed_Pipe_Centers = pd.read_csv('DESIGNED_Pipe_Centers_Cleaned.csv', delimiter = ',', encoding = 'latin1')\n",
    "Planes_Local_Global_Cleaned = pd.read_csv('Planes_Local_Global_Cleaned.csv', delimiter = ',', encoding = 'latin1')"
   ]
  },
  {
   "cell_type": "code",
   "execution_count": 9,
   "id": "ceramic-bosnia",
   "metadata": {},
   "outputs": [
    {
     "name": "stdout",
     "output_type": "stream",
     "text": [
      "As built: \n",
      "             Section      X      Y    Z\n",
      "0       Section-{0}  14.65  44.56  0.0\n",
      "1       Section-{0}  14.17  43.33  0.0\n",
      "2       Section-{0}  61.61  59.48  0.0\n",
      "3       Section-{0}  14.45  44.45  0.0\n",
      "4       Section-{0}  14.92  45.03  0.0\n",
      "...             ...    ...    ...  ...\n",
      "14462  Section-{49}  73.27  58.27  0.0\n",
      "14463  Section-{49}  71.50  56.44  0.0\n",
      "14464  Section-{49}  71.38  56.32  0.0\n",
      "14465  Section-{49}  73.11  58.07  0.0\n",
      "14466  Section-{49}  73.70  58.96  0.0\n",
      "\n",
      "[14467 rows x 4 columns] \n",
      "\n",
      "As designed: \n",
      "          Section          X          Y  Z      R\n",
      "0    Section-{0}  65.408948  63.690596  0  8.000\n",
      "1    Section-{0}  10.082133  41.693907  0  4.375\n",
      "2    Section-{1}  65.408948  63.690228  0  8.000\n",
      "3    Section-{1}  10.082132  40.288857  0  4.375\n",
      "4    Section-{2}  65.408948  63.688344  0  8.000\n",
      "..           ...        ...        ... ..    ...\n",
      "95  Section-{47}  10.083647  57.131381  0  4.375\n",
      "96  Section-{48}  65.408953  63.689610  0  8.000\n",
      "97  Section-{48}  10.083599  57.402983  0  4.375\n",
      "98  Section-{49}  65.408947  63.689732  0  8.000\n",
      "99  Section-{49}  10.083495  57.793803  0  4.375\n",
      "\n",
      "[100 rows x 5 columns]\n"
     ]
    }
   ],
   "source": [
    "# Print data\n",
    "print('As built: \\n', Cloud_Sections, '\\n')\n",
    "print('As designed: \\n', Designed_Pipe_Centers)"
   ]
  },
  {
   "cell_type": "code",
   "execution_count": null,
   "id": "designing-crash",
   "metadata": {},
   "outputs": [],
   "source": []
  }
 ],
 "metadata": {
  "kernelspec": {
   "display_name": "Python 3",
   "language": "python",
   "name": "python3"
  },
  "language_info": {
   "codemirror_mode": {
    "name": "ipython",
    "version": 3
   },
   "file_extension": ".py",
   "mimetype": "text/x-python",
   "name": "python",
   "nbconvert_exporter": "python",
   "pygments_lexer": "ipython3",
   "version": "3.7.6"
  }
 },
 "nbformat": 4,
 "nbformat_minor": 5
}
