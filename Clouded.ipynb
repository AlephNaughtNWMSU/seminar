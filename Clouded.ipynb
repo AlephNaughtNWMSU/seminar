{
 "cells": [
  {
   "cell_type": "code",
   "execution_count": 3,
   "id": "democratic-ferry",
   "metadata": {},
   "outputs": [],
   "source": [
    "# Libraries\n",
    "import csv\n",
    "import pandas as pd\n",
    "import matplotlib.pyplot as plt\n",
    "\n",
    "# Read in data\n",
    "Cloud_Sections = pd.read_csv('CLOUD_SECTIONS_Cleaned.csv', delimiter = ',', encoding = 'latin1')\n",
    "Designed_Pipe_Centers = pd.read_csv('DESIGNED_Pipe_Centers_Cleaned.csv', delimiter = ',', encoding = 'latin1')\n",
    "Planes_Local_Global_Cleaned = pd.read_csv('Planes_Local_Global_Cleaned.csv', delimiter = ',', encoding = 'latin1')"
   ]
  },
  {
   "cell_type": "code",
   "execution_count": 4,
   "id": "coral-miami",
   "metadata": {},
   "outputs": [
    {
     "name": "stdout",
     "output_type": "stream",
     "text": [
      "            Section        X        Y        Z  Unnamed: 4\n",
      "0           Column1  Column2  Column3  Column4         NaN\n",
      "1       Section-{0}    14.65    44.56        0         NaN\n",
      "2       Section-{0}    14.17    43.33        0         NaN\n",
      "3       Section-{0}    61.61    59.48        0         NaN\n",
      "4       Section-{0}    14.45    44.45        0         NaN\n",
      "...             ...      ...      ...      ...         ...\n",
      "14414  Section-{49}    73.27    58.27        0         NaN\n",
      "14415  Section-{49}     71.5    56.44        0         NaN\n",
      "14416  Section-{49}    71.38    56.32        0         NaN\n",
      "14417  Section-{49}    73.11    58.07        0         NaN\n",
      "14418  Section-{49}     73.7    58.96        0         NaN\n",
      "\n",
      "[14419 rows x 5 columns]\n"
     ]
    }
   ],
   "source": [
    "#Cloud_Sections = pd.DataFrame(Cloud, columns = ['Artist' , 'Album','c','d'])\n",
    "print(Cloud_Sections_read)"
   ]
  }
 ],
 "metadata": {
  "kernelspec": {
   "display_name": "Python 3",
   "language": "python",
   "name": "python3"
  },
  "language_info": {
   "codemirror_mode": {
    "name": "ipython",
    "version": 3
   },
   "file_extension": ".py",
   "mimetype": "text/x-python",
   "name": "python",
   "nbconvert_exporter": "python",
   "pygments_lexer": "ipython3",
   "version": "3.7.6"
  }
 },
 "nbformat": 4,
 "nbformat_minor": 5
}
